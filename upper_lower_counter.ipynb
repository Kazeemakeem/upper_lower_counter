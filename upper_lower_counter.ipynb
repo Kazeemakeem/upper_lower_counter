{
 "cells": [
  {
   "cell_type": "code",
   "execution_count": 12,
   "metadata": {},
   "outputs": [],
   "source": [
    "#UPPPER AND LOWER CASE COUNTER.\n",
    "\n",
    "def up_low(s):\n",
    "    \n",
    "    #set the counters to zero\n",
    "    \n",
    "    upper_counter = 0\n",
    "    lower_counter = 0\n",
    "    \n",
    "    #loop through the sentence, check the case and increase the counters appropriately\n",
    "    \n",
    "    for letter in s:\n",
    "        if letter.isupper():\n",
    "            upper_counter += 1\n",
    "        elif letter.islower():\n",
    "            lower_counter += 1\n",
    "        else:\n",
    "            continue\n",
    "            \n",
    "    #print the output\n",
    "    \n",
    "    print('No. of upper case characters is ' + str(upper_counter))\n",
    "    print('No. of lower case characters is ' + str(lower_counter))\n"
   ]
  },
  {
   "cell_type": "code",
   "execution_count": 13,
   "metadata": {},
   "outputs": [
    {
     "name": "stdout",
     "output_type": "stream",
     "text": [
      "No. of upper case characters is 3\n",
      "No. of lower case characters is 27\n"
     ]
    }
   ],
   "source": [
    "up_low('The house is beautiful and EnorMous')"
   ]
  },
  {
   "cell_type": "code",
   "execution_count": null,
   "metadata": {},
   "outputs": [],
   "source": []
  }
 ],
 "metadata": {
  "kernelspec": {
   "display_name": "Python 3",
   "language": "python",
   "name": "python3"
  },
  "language_info": {
   "codemirror_mode": {
    "name": "ipython",
    "version": 3
   },
   "file_extension": ".py",
   "mimetype": "text/x-python",
   "name": "python",
   "nbconvert_exporter": "python",
   "pygments_lexer": "ipython3",
   "version": "3.7.4"
  }
 },
 "nbformat": 4,
 "nbformat_minor": 2
}
